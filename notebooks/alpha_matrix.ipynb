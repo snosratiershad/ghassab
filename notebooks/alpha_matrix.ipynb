{
 "cells": [
  {
   "cell_type": "code",
   "execution_count": 1,
   "id": "a6303880-b5de-46bf-b220-ea1e7e9a1d31",
   "metadata": {},
   "outputs": [],
   "source": [
    "import os\n",
    "\n",
    "import numpy as np\n",
    "import matplotlib.pyplot as plt\n",
    "from PIL import Image"
   ]
  },
  {
   "cell_type": "code",
   "execution_count": 5,
   "id": "18b05d22-74c0-4685-a190-54fb7dc83d13",
   "metadata": {},
   "outputs": [],
   "source": [
    "images_path = \"../images\"\n",
    "images = os.listdir(images_path)"
   ]
  },
  {
   "cell_type": "code",
   "execution_count": 2,
   "id": "ee18bdf9-6450-43cf-acc7-d255cf501a01",
   "metadata": {},
   "outputs": [],
   "source": [
    "def get_alpha_matrix(image_path):\n",
    "    img = Image.open(image_path)\n",
    "    \n",
    "    img = img.convert(\"RGBA\")\n",
    "    \n",
    "    pixels = np.array(img)\n",
    "    \n",
    "    alpha_channel = pixels[:, :, 3]\n",
    "    \n",
    "    return alpha_channel"
   ]
  },
  {
   "cell_type": "code",
   "execution_count": 13,
   "id": "5ad101a4-df7b-4d26-8776-81505edbc822",
   "metadata": {},
   "outputs": [],
   "source": [
    "def get_binrary_alpha_matrix(image_path):\n",
    "    alpha_matrix = get_alpha_matrix(image_path)\n",
    "    alpha_matrix[alpha_matrix != 0] = 255\n",
    "    return alpha_matrix"
   ]
  },
  {
   "cell_type": "code",
   "execution_count": 22,
   "id": "d648ff9e-dd9c-4e26-8aed-75cf3af511e8",
   "metadata": {},
   "outputs": [],
   "source": [
    "def draw_transparency_plot(image):\n",
    "    alpha_matrix = get_alpha_matrix(f\"{images_path}/{image}\")\n",
    "\n",
    "    fig, ax = plt.subplots()\n",
    "    im = ax.imshow(alpha_matrix)\n",
    "    fig.colorbar(im, ax=ax)\n",
    "    plt.show()"
   ]
  },
  {
   "cell_type": "code",
   "execution_count": 23,
   "id": "480aa6ec-7573-4bec-846e-3bd03ffe889f",
   "metadata": {},
   "outputs": [],
   "source": [
    "def draw_binary_transparency_plot(image):\n",
    "    alpha_matrix = get_binrary_alpha_matrix(f\"{images_path}/{image}\")\n",
    "\n",
    "    fig, ax = plt.subplots()\n",
    "    im = ax.imshow(alpha_matrix)\n",
    "    fig.colorbar(im, ax=ax)\n",
    "    plt.show()"
   ]
  },
  {
   "cell_type": "code",
   "execution_count": 24,
   "id": "695e84ad-3adc-4ca3-96c8-e2cacba765e9",
   "metadata": {},
   "outputs": [
    {
     "ename": "OSError",
     "evalue": "[Errno 36] File name too long: \"../images/['IMG_8375.PNG', 'IMG_8368.PNG', 'IMG_8348.PNG', 'IMG_8341.PNG', 'IMG_8342.PNG', 'IMG_8347.PNG', 'IMG_8346.PNG', 'IMG_8339.PNG', 'IMG_8349.PNG', 'IMG_8356.PNG', 'IMG_8351.PNG', 'IMG_8354.PNG', 'IMG_8360.PNG', 'IMG_8344.PNG', 'IMG_8362.PNG', 'IMG_8366.PNG', 'IMG_8373.PNG', 'IMG_8355.PNG', 'IMG_8357.PNG', 'IMG_8367.PNG', 'IMG_8369.PNG', 'IMG_8345.PNG', 'IMG_8352.PNG', 'IMG_8365.PNG', 'IMG_8361.PNG', 'IMG_8343.PNG', 'IMG_8374.PNG', 'IMG_8358.PNG', 'IMG_8359.PNG', 'IMG_8353.PNG', 'IMG_8376.PNG', 'IMG_8370.PNG', 'IMG_8364.PNG', 'IMG_8371.PNG']\"",
     "output_type": "error",
     "traceback": [
      "\u001b[0;31m---------------------------------------------------------------------------\u001b[0m",
      "\u001b[0;31mOSError\u001b[0m                                   Traceback (most recent call last)",
      "Cell \u001b[0;32mIn[24], line 1\u001b[0m\n\u001b[0;32m----> 1\u001b[0m \u001b[43mdraw_transparency_plot\u001b[49m\u001b[43m(\u001b[49m\u001b[43mimages\u001b[49m\u001b[43m)\u001b[49m\n\u001b[1;32m      2\u001b[0m draw_binary_transparency_plot(images)\n",
      "Cell \u001b[0;32mIn[22], line 2\u001b[0m, in \u001b[0;36mdraw_transparency_plot\u001b[0;34m(image)\u001b[0m\n\u001b[1;32m      1\u001b[0m \u001b[38;5;28;01mdef\u001b[39;00m \u001b[38;5;21mdraw_transparency_plot\u001b[39m(image):\n\u001b[0;32m----> 2\u001b[0m     alpha_matrix \u001b[38;5;241m=\u001b[39m \u001b[43mget_alpha_matrix\u001b[49m\u001b[43m(\u001b[49m\u001b[38;5;124;43mf\u001b[39;49m\u001b[38;5;124;43m\"\u001b[39;49m\u001b[38;5;132;43;01m{\u001b[39;49;00m\u001b[43mimages_path\u001b[49m\u001b[38;5;132;43;01m}\u001b[39;49;00m\u001b[38;5;124;43m/\u001b[39;49m\u001b[38;5;132;43;01m{\u001b[39;49;00m\u001b[43mimage\u001b[49m\u001b[38;5;132;43;01m}\u001b[39;49;00m\u001b[38;5;124;43m\"\u001b[39;49m\u001b[43m)\u001b[49m\n\u001b[1;32m      4\u001b[0m     fig, ax \u001b[38;5;241m=\u001b[39m plt\u001b[38;5;241m.\u001b[39msubplots()\n\u001b[1;32m      5\u001b[0m     im \u001b[38;5;241m=\u001b[39m ax\u001b[38;5;241m.\u001b[39mimshow(alpha_matrix)\n",
      "Cell \u001b[0;32mIn[2], line 2\u001b[0m, in \u001b[0;36mget_alpha_matrix\u001b[0;34m(image_path)\u001b[0m\n\u001b[1;32m      1\u001b[0m \u001b[38;5;28;01mdef\u001b[39;00m \u001b[38;5;21mget_alpha_matrix\u001b[39m(image_path):\n\u001b[0;32m----> 2\u001b[0m     img \u001b[38;5;241m=\u001b[39m \u001b[43mImage\u001b[49m\u001b[38;5;241;43m.\u001b[39;49m\u001b[43mopen\u001b[49m\u001b[43m(\u001b[49m\u001b[43mimage_path\u001b[49m\u001b[43m)\u001b[49m\n\u001b[1;32m      4\u001b[0m     img \u001b[38;5;241m=\u001b[39m img\u001b[38;5;241m.\u001b[39mconvert(\u001b[38;5;124m\"\u001b[39m\u001b[38;5;124mRGBA\u001b[39m\u001b[38;5;124m\"\u001b[39m)\n\u001b[1;32m      6\u001b[0m     pixels \u001b[38;5;241m=\u001b[39m np\u001b[38;5;241m.\u001b[39marray(img)\n",
      "File \u001b[0;32m~/.pyenv/versions/3.12.7/envs/ghassab/lib/python3.12/site-packages/PIL/Image.py:3465\u001b[0m, in \u001b[0;36mopen\u001b[0;34m(fp, mode, formats)\u001b[0m\n\u001b[1;32m   3462\u001b[0m     filename \u001b[38;5;241m=\u001b[39m os\u001b[38;5;241m.\u001b[39mfspath(fp)\n\u001b[1;32m   3464\u001b[0m \u001b[38;5;28;01mif\u001b[39;00m filename:\n\u001b[0;32m-> 3465\u001b[0m     fp \u001b[38;5;241m=\u001b[39m \u001b[43mbuiltins\u001b[49m\u001b[38;5;241;43m.\u001b[39;49m\u001b[43mopen\u001b[49m\u001b[43m(\u001b[49m\u001b[43mfilename\u001b[49m\u001b[43m,\u001b[49m\u001b[43m \u001b[49m\u001b[38;5;124;43m\"\u001b[39;49m\u001b[38;5;124;43mrb\u001b[39;49m\u001b[38;5;124;43m\"\u001b[39;49m\u001b[43m)\u001b[49m\n\u001b[1;32m   3466\u001b[0m     exclusive_fp \u001b[38;5;241m=\u001b[39m \u001b[38;5;28;01mTrue\u001b[39;00m\n\u001b[1;32m   3467\u001b[0m \u001b[38;5;28;01melse\u001b[39;00m:\n",
      "\u001b[0;31mOSError\u001b[0m: [Errno 36] File name too long: \"../images/['IMG_8375.PNG', 'IMG_8368.PNG', 'IMG_8348.PNG', 'IMG_8341.PNG', 'IMG_8342.PNG', 'IMG_8347.PNG', 'IMG_8346.PNG', 'IMG_8339.PNG', 'IMG_8349.PNG', 'IMG_8356.PNG', 'IMG_8351.PNG', 'IMG_8354.PNG', 'IMG_8360.PNG', 'IMG_8344.PNG', 'IMG_8362.PNG', 'IMG_8366.PNG', 'IMG_8373.PNG', 'IMG_8355.PNG', 'IMG_8357.PNG', 'IMG_8367.PNG', 'IMG_8369.PNG', 'IMG_8345.PNG', 'IMG_8352.PNG', 'IMG_8365.PNG', 'IMG_8361.PNG', 'IMG_8343.PNG', 'IMG_8374.PNG', 'IMG_8358.PNG', 'IMG_8359.PNG', 'IMG_8353.PNG', 'IMG_8376.PNG', 'IMG_8370.PNG', 'IMG_8364.PNG', 'IMG_8371.PNG']\""
     ]
    }
   ],
   "source": [
    "for image in images:\n",
    "    draw_transparency_plot(image)\n",
    "    draw_binary_transparency_plot(image)"
   ]
  },
  {
   "cell_type": "code",
   "execution_count": null,
   "id": "f313dc4d-401e-462b-a253-21a963f784f4",
   "metadata": {},
   "outputs": [],
   "source": []
  }
 ],
 "metadata": {
  "kernelspec": {
   "display_name": "Python 3 (ipykernel)",
   "language": "python",
   "name": "python3"
  },
  "language_info": {
   "codemirror_mode": {
    "name": "ipython",
    "version": 3
   },
   "file_extension": ".py",
   "mimetype": "text/x-python",
   "name": "python",
   "nbconvert_exporter": "python",
   "pygments_lexer": "ipython3",
   "version": "3.12.7"
  }
 },
 "nbformat": 4,
 "nbformat_minor": 5
}
